{
 "cells": [
  {
   "cell_type": "code",
   "execution_count": 1,
   "id": "eaf83085",
   "metadata": {},
   "outputs": [],
   "source": [
    "%load_ext autoreload\n",
    "%autoreload 2"
   ]
  },
  {
   "cell_type": "code",
   "execution_count": 2,
   "id": "a916915b",
   "metadata": {},
   "outputs": [],
   "source": [
    "from upyog.all import *\n"
   ]
  },
  {
   "cell_type": "code",
   "execution_count": 3,
   "id": "19d657e5",
   "metadata": {},
   "outputs": [],
   "source": [
    "path_raw = \"/Users/rahulsomani/git/GPTeacher/Roleplay/roleplay-simple-deduped-roleplay-instruct.json\"\n",
    "data_raw = load_json(path_raw)"
   ]
  },
  {
   "cell_type": "code",
   "execution_count": 4,
   "id": "6f8684c4",
   "metadata": {},
   "outputs": [
    {
     "data": {
      "text/plain": [
       "1923"
      ]
     },
     "execution_count": 4,
     "metadata": {},
     "output_type": "execute_result"
    }
   ],
   "source": [
    "len(data_raw)"
   ]
  },
  {
   "cell_type": "code",
   "execution_count": 5,
   "id": "5f73a73e",
   "metadata": {},
   "outputs": [
    {
     "data": {
      "text/plain": [
       "\"After thoroughly reviewing the candidate's application and conducting an extensive interview, the following assessment has been made: The candidate's background in folklore and paranormal studies, combined with their strong problem-solving abilities, makes them a promising candidate for the position. They demonstrate excellent communication skills, which could prove valuable when interviewing witnesses and gathering information about paranormal activities. Additionally, their successful completion of numerous ghost hunting expeditions illustrates their hands-on experience and dedication to the field. However, the candidate lacks formal certification in some of the more technical aspects, such as electromagnetic field detection and infrared thermography. Providing additional training in these areas could strengthen their abilities even further. Overall, considering the candidate's knowledge, experience, and enthusiasm for ghost hunting, it is recommended that they be considered for the professional ghost hunter position.\""
      ]
     },
     "execution_count": 5,
     "metadata": {},
     "output_type": "execute_result"
    }
   ],
   "source": [
    "i=10\n",
    "data_raw[i]['response']"
   ]
  },
  {
   "cell_type": "code",
   "execution_count": 6,
   "id": "f98cd8bf",
   "metadata": {},
   "outputs": [
    {
     "data": {
      "text/plain": [
       "[\"After thoroughly reviewing the candidate's application and conducting an extensive interview, the following assessment has been made: The candidate's background in folklore and paranormal studies, combined with their strong problem-solving abilities, makes them a promising candidate for the position\",\n",
       " ' They demonstrate excellent communication skills, which could prove valuable when interviewing witnesses and gathering information about paranormal activities',\n",
       " ' Additionally, their successful completion of numerous ghost hunting expeditions illustrates their hands-on experience and dedication to the field',\n",
       " ' However, the candidate lacks formal certification in some of the more technical aspects, such as electromagnetic field detection and infrared thermography',\n",
       " ' Providing additional training in these areas could strengthen their abilities even further',\n",
       " \" Overall, considering the candidate's knowledge, experience, and enthusiasm for ghost hunting, it is recommended that they be considered for the professional ghost hunter position\",\n",
       " '']"
      ]
     },
     "execution_count": 6,
     "metadata": {},
     "output_type": "execute_result"
    }
   ],
   "source": [
    "data_raw[i]['response'].split('.')"
   ]
  },
  {
   "cell_type": "code",
   "execution_count": 7,
   "id": "10756a6a",
   "metadata": {},
   "outputs": [],
   "source": [
    "def jsonify_response(response: str) -> str:\n",
    "    # Splitting the response using regex\n",
    "    split_sentences = re.split(r'(?<=[.!?])\\s+', response)\n",
    "\n",
    "    # Initialize an empty list for cleaned sentences\n",
    "    sentences = []\n",
    "\n",
    "    # Loop through the split sentences to clean and filter them\n",
    "    for sentence in split_sentences:\n",
    "        trimmed_sentence = sentence.strip()\n",
    "        if trimmed_sentence:  # Check if the trimmed sentence is not empty\n",
    "            sentences.append(trimmed_sentence)\n",
    "\n",
    "    return json.dumps(sentences)\n",
    "    # return sentences"
   ]
  },
  {
   "cell_type": "code",
   "execution_count": 8,
   "id": "39b79adb",
   "metadata": {},
   "outputs": [
    {
     "name": "stdout",
     "output_type": "stream",
     "text": [
      "{'instruction': 'You are Galileo Galilei defending your belief in the heliocentric model during the Roman Inquisition. Write a brief statement explaining your observations and reasoning for supporting this view of the universe.', 'input': '', 'response': \"Esteemed members of the Inquisition, my observations of the celestial bodies have led me to conclude that the heliocentric model, initially proposed by Copernicus, is the accurate representation of our universe. Through my telescopic studies, I have observed the moons of Jupiter moving around the planet, the varying sizes of Venus and Mars, and the Earth's rotation causing the tides. These findings provide evidence that not all celestial bodies revolve around the Earth, indicating that we are not at the center of the universe. While this idea may be controversial, I firmly believe in the power of empirical evidence and that scientific inquiry should be guided by observation and reason, not solely by traditional beliefs.\"}\n",
      "\n"
     ]
    },
    {
     "data": {
      "text/plain": [
       "'[\"Esteemed members of the Inquisition, my observations of the celestial bodies have led me to conclude that the heliocentric model, initially proposed by Copernicus, is the accurate representation of our universe.\", \"Through my telescopic studies, I have observed the moons of Jupiter moving around the planet, the varying sizes of Venus and Mars, and the Earth\\'s rotation causing the tides.\", \"These findings provide evidence that not all celestial bodies revolve around the Earth, indicating that we are not at the center of the universe.\", \"While this idea may be controversial, I firmly believe in the power of empirical evidence and that scientific inquiry should be guided by observation and reason, not solely by traditional beliefs.\"]'"
      ]
     },
     "execution_count": 8,
     "metadata": {},
     "output_type": "execute_result"
    }
   ],
   "source": [
    "i = random.randint(0, len(data_raw))\n",
    "response = data_raw[i]['response']\n",
    "\n",
    "print(data_raw[i])\n",
    "print()\n",
    "\n",
    "jsonify_response(response)"
   ]
  },
  {
   "cell_type": "code",
   "execution_count": 9,
   "id": "db7c7ed1",
   "metadata": {},
   "outputs": [
    {
     "data": {
      "application/vnd.jupyter.widget-view+json": {
       "model_id": "4cf0f035ebbf4363985cb1e32b878467",
       "version_major": 2,
       "version_minor": 0
      },
      "text/plain": [
       "  0%|          | 0/1923 [00:00<?, ?it/s]"
      ]
     },
     "metadata": {},
     "output_type": "display_data"
    }
   ],
   "source": [
    "data_cleaned = []\n",
    "for item in tqdm(data_raw):\n",
    "    item[\"response\"] = jsonify_response(item[\"response\"])\n",
    "    data_cleaned.append(item)"
   ]
  },
  {
   "cell_type": "code",
   "execution_count": 10,
   "id": "259719be",
   "metadata": {},
   "outputs": [],
   "source": [
    "write_json(data_cleaned, \"/Users/rahulsomani/git/lit-gpt/data/roleplay-jsonified/roleplay-simple-deduped-roleplay-instruct__jsonified-responses.json\")"
   ]
  },
  {
   "cell_type": "code",
   "execution_count": null,
   "id": "a154b57d",
   "metadata": {},
   "outputs": [],
   "source": []
  },
  {
   "cell_type": "code",
   "execution_count": null,
   "id": "061a274c",
   "metadata": {},
   "outputs": [],
   "source": []
  }
 ],
 "metadata": {
  "kernelspec": {
   "display_name": "Python 3 (ipykernel)",
   "language": "python",
   "name": "python3"
  },
  "language_info": {
   "codemirror_mode": {
    "name": "ipython",
    "version": 3
   },
   "file_extension": ".py",
   "mimetype": "text/x-python",
   "name": "python",
   "nbconvert_exporter": "python",
   "pygments_lexer": "ipython3",
   "version": "3.8.15"
  }
 },
 "nbformat": 4,
 "nbformat_minor": 5
}
